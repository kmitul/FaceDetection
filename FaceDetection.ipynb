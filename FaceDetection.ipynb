{
 "cells": [
  {
   "cell_type": "code",
   "execution_count": 1,
   "metadata": {},
   "outputs": [],
   "source": [
    "import numpy as np\n",
    "import cv2\n",
    "\n",
    "facecascade = cv2.CascadeClassifier('haarcascade_frontalface_default.xml')\n",
    "eyecascade = cv2.CascadeClassifier('haarcascade_eye.xml')\n",
    "smilecascade = cv2.CascadeClassifier('haarcascade_smile.xml')\n",
    "\n",
    "cap = cv2.VideoCapture(0)\n",
    "scale_factor = 1.3\n",
    "\n",
    "while True:\n",
    "    ret, frame = cap.read()\n",
    "    \n",
    "    faces = facecascade.detectMultiScale(frame, scale_factor, 5)\n",
    "    eyes = eyecascade.detectMultiScale(frame, scale_factor, 5)\n",
    "    smiles = smilecascade.detectMultiScale(frame, scale_factor, 3)\n",
    "    \n",
    "    for(x,y,w,h) in faces:\n",
    "        cv2.rectangle(frame, (x,y), (x+w, y+h), (255,12,123), 4)\n",
    "        cv2.putText(frame, 'Face', (x,y), cv2.FONT_HERSHEY_SIMPLEX, 2, (255,240,24), 2)\n",
    "    for(x,y,w,h) in eyes:\n",
    "        cv2.rectangle(frame, (x,y), (x+w,y+h), (255,0,0), 2)\n",
    "        cv2.putText(frame, 'Eye', (x,y), cv2.FONT_HERSHEY_SIMPLEX, 0.75, (255,240,24), 1)\n",
    "    #for(x,y,w,h) in smiles:\n",
    "      #  cv2.rectangle(frame, (x,y), (x+w,y+h), (0,255,0), 2)\n",
    "    \n",
    "    #print(\"Number of faces found {} \".format(len(faces)))\n",
    "    cv2.imshow('Detection', frame)\n",
    "    k = cv2.waitKey(30) & 0xff \n",
    "    if k==27:\n",
    "        break\n",
    "cap.release()    \n",
    "cv2.destroyAllWindows()"
   ]
  },
  {
   "cell_type": "code",
   "execution_count": null,
   "metadata": {},
   "outputs": [],
   "source": []
  },
  {
   "cell_type": "code",
   "execution_count": null,
   "metadata": {},
   "outputs": [],
   "source": []
  }
 ],
 "metadata": {
  "kernelspec": {
   "display_name": "Python 3",
   "language": "python",
   "name": "python3"
  },
  "language_info": {
   "codemirror_mode": {
    "name": "ipython",
    "version": 3
   },
   "file_extension": ".py",
   "mimetype": "text/x-python",
   "name": "python",
   "nbconvert_exporter": "python",
   "pygments_lexer": "ipython3",
   "version": "3.7.1"
  }
 },
 "nbformat": 4,
 "nbformat_minor": 2
}
